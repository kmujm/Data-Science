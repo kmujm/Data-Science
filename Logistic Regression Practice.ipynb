{
  "nbformat": 4,
  "nbformat_minor": 0,
  "metadata": {
    "colab": {
      "name": "20203074_박정민_과제2.ipynb",
      "provenance": [],
      "collapsed_sections": []
    },
    "kernelspec": {
      "name": "python3",
      "display_name": "Python 3"
    },
    "language_info": {
      "name": "python"
    }
  },
  "cells": [
    {
      "cell_type": "code",
      "metadata": {
        "colab": {
          "base_uri": "https://localhost:8080/"
        },
        "id": "L-T5L8N8AjJM",
        "outputId": "2b0c05bd-d9f7-4758-803c-e9280620f43d"
      },
      "source": [
        "import torch\n",
        "\n",
        "x_train = torch.FloatTensor([[1], [2], [3], [4], [5], [2.5], [3.5], [0], [3.1], [2.7], [2.8], [2.9]])\n",
        "y_train = torch.FloatTensor([[1], [1], [1], [0], [0], [0], [0], [1], [0], [1], [1], [1]])\n",
        "\n",
        "W = torch.zeros(1, 1)\n",
        "b = torch.zeros(1, 1)\n",
        "\n",
        "lr = 1.0\n",
        "\n",
        "for epoch in range(3001):\n",
        "  W.requires_grad_(True)\n",
        "  b.requires_grad_(True)\n",
        "\n",
        "  hypothesis = torch.sigmoid(torch.mm(x_train, W) + b)\n",
        "  cost = torch.mean(-y_train * torch.log(hypothesis) - (1 - y_train) * torch.log(1- hypothesis))\n",
        "\n",
        "  cost.backward()\n",
        "  with torch.no_grad() as grd:\n",
        "    W = W - lr * W.grad\n",
        "    b = b - lr * b.grad\n",
        "\n",
        "    if epoch % 100 == 0:\n",
        "      print('epoch: {}, cost: {:.6f}, W: {:.6f}, b: {:.6f}'.format(epoch, cost.item(), W.squeeze(), b.squeeze()))\n"
      ],
      "execution_count": 3,
      "outputs": [
        {
          "output_type": "stream",
          "name": "stdout",
          "text": [
            "epoch: 0, cost: 0.693147, W: -0.154167, b: 0.083333\n",
            "epoch: 100, cost: 0.420221, W: -1.451281, b: 4.406925\n",
            "epoch: 200, cost: 0.398721, W: -1.898433, b: 5.773750\n",
            "epoch: 300, cost: 0.390820, W: -2.174322, b: 6.609553\n",
            "epoch: 400, cost: 0.387009, W: -2.367329, b: 7.191599\n",
            "epoch: 500, cost: 0.384924, W: -2.510626, b: 7.622530\n",
            "epoch: 600, cost: 0.383699, W: -2.620779, b: 7.953164\n",
            "epoch: 700, cost: 0.382944, W: -2.707397, b: 8.212804\n",
            "epoch: 800, cost: 0.382463, W: -2.776597, b: 8.420023\n",
            "epoch: 900, cost: 0.382149, W: -2.832521, b: 8.587363\n",
            "epoch: 1000, cost: 0.381941, W: -2.878112, b: 8.723699\n",
            "epoch: 1100, cost: 0.381801, W: -2.915530, b: 8.835541\n",
            "epoch: 1200, cost: 0.381706, W: -2.946401, b: 8.927779\n",
            "epoch: 1300, cost: 0.381641, W: -2.971979, b: 9.004180\n",
            "epoch: 1400, cost: 0.381596, W: -2.993242, b: 9.067673\n",
            "epoch: 1500, cost: 0.381565, W: -3.010968, b: 9.120598\n",
            "epoch: 1600, cost: 0.381543, W: -3.025776, b: 9.164800\n",
            "epoch: 1700, cost: 0.381528, W: -3.038172, b: 9.201797\n",
            "epoch: 1800, cost: 0.381517, W: -3.048561, b: 9.232802\n",
            "epoch: 1900, cost: 0.381509, W: -3.057279, b: 9.258815\n",
            "epoch: 2000, cost: 0.381504, W: -3.064605, b: 9.280675\n",
            "epoch: 2100, cost: 0.381500, W: -3.070765, b: 9.299053\n",
            "epoch: 2200, cost: 0.381497, W: -3.075948, b: 9.314517\n",
            "epoch: 2300, cost: 0.381495, W: -3.080314, b: 9.327539\n",
            "epoch: 2400, cost: 0.381494, W: -3.083991, b: 9.338510\n",
            "epoch: 2500, cost: 0.381493, W: -3.087090, b: 9.347754\n",
            "epoch: 2600, cost: 0.381493, W: -3.089704, b: 9.355551\n",
            "epoch: 2700, cost: 0.381492, W: -3.091908, b: 9.362126\n",
            "epoch: 2800, cost: 0.381492, W: -3.093769, b: 9.367676\n",
            "epoch: 2900, cost: 0.381491, W: -3.095338, b: 9.372355\n",
            "epoch: 3000, cost: 0.381491, W: -3.096662, b: 9.376306\n"
          ]
        }
      ]
    },
    {
      "cell_type": "code",
      "metadata": {
        "colab": {
          "base_uri": "https://localhost:8080/"
        },
        "id": "j88uey1xjP87",
        "outputId": "592eed75-9e91-45e9-9878-eafa44ad01da"
      },
      "source": [
        "x_test = torch.FloatTensor([[4.5], [1.1]])\n",
        "test_result = torch.sigmoid(torch.mm(x_test, W) + b)\n",
        "print(torch.round(test_result))"
      ],
      "execution_count": null,
      "outputs": [
        {
          "output_type": "stream",
          "name": "stdout",
          "text": [
            "tensor([[0.],\n",
            "        [1.]])\n"
          ]
        }
      ]
    },
    {
      "cell_type": "code",
      "metadata": {
        "id": "9GLQO0aqje1U",
        "colab": {
          "base_uri": "https://localhost:8080/"
        },
        "outputId": "1e6621f6-de48-4672-81aa-dc7e375e8fd3"
      },
      "source": [
        "import torch\n",
        "\n",
        "x_train = torch.FloatTensor([[1], [2], [3], [4], [5], [2.5], [3.5], [0], [3.1], [2.7], [2.8], [2.9]])\n",
        "y_train = torch.FloatTensor([[1], [1], [1], [0], [0], [0], [0], [1], [0], [1], [1], [1]])\n",
        "\n",
        "W = torch.zeros(1, 1)\n",
        "b = torch.zeros(1, 1)\n",
        "\n",
        "optimizer = torch.optim.SGD([W, b], lr=1.0)\n",
        "\n",
        "for epoch in range(3001):\n",
        "  W.requires_grad_(True)\n",
        "  b.requires_grad_(True)\n",
        "\n",
        "  hypothesis = torch.sigmoid(torch.mm(x_train, W) + b)\n",
        "  cost = torch.mean(-y_train * torch.log(hypothesis) - (1 - y_train) * torch.log(1- hypothesis))\n",
        "\n",
        "  optimizer.zero_grad()\n",
        "  cost.backward()\n",
        "  optimizer.step()\n",
        "\n",
        "  if epoch % 100 == 0:\n",
        "    print('epoch: {}, cost: {:.6f}, W: {:.6f}, b: {:.6f}'.format(epoch, cost.item(), W.squeeze(), b.squeeze()))\n"
      ],
      "execution_count": 7,
      "outputs": [
        {
          "output_type": "stream",
          "name": "stdout",
          "text": [
            "epoch: 0, cost: 0.693147, W: -0.154167, b: 0.083333\n",
            "epoch: 100, cost: 0.420221, W: -1.451281, b: 4.406925\n",
            "epoch: 200, cost: 0.398721, W: -1.898433, b: 5.773750\n",
            "epoch: 300, cost: 0.390820, W: -2.174322, b: 6.609553\n",
            "epoch: 400, cost: 0.387009, W: -2.367329, b: 7.191599\n",
            "epoch: 500, cost: 0.384924, W: -2.510626, b: 7.622530\n",
            "epoch: 600, cost: 0.383699, W: -2.620779, b: 7.953164\n",
            "epoch: 700, cost: 0.382944, W: -2.707397, b: 8.212804\n",
            "epoch: 800, cost: 0.382463, W: -2.776597, b: 8.420023\n",
            "epoch: 900, cost: 0.382149, W: -2.832521, b: 8.587363\n",
            "epoch: 1000, cost: 0.381941, W: -2.878112, b: 8.723699\n",
            "epoch: 1100, cost: 0.381801, W: -2.915530, b: 8.835541\n",
            "epoch: 1200, cost: 0.381706, W: -2.946401, b: 8.927779\n",
            "epoch: 1300, cost: 0.381641, W: -2.971979, b: 9.004180\n",
            "epoch: 1400, cost: 0.381596, W: -2.993242, b: 9.067673\n",
            "epoch: 1500, cost: 0.381565, W: -3.010968, b: 9.120598\n",
            "epoch: 1600, cost: 0.381543, W: -3.025776, b: 9.164800\n",
            "epoch: 1700, cost: 0.381528, W: -3.038172, b: 9.201797\n",
            "epoch: 1800, cost: 0.381517, W: -3.048561, b: 9.232802\n",
            "epoch: 1900, cost: 0.381509, W: -3.057279, b: 9.258815\n",
            "epoch: 2000, cost: 0.381504, W: -3.064605, b: 9.280675\n",
            "epoch: 2100, cost: 0.381500, W: -3.070765, b: 9.299053\n",
            "epoch: 2200, cost: 0.381497, W: -3.075948, b: 9.314517\n",
            "epoch: 2300, cost: 0.381495, W: -3.080314, b: 9.327539\n",
            "epoch: 2400, cost: 0.381494, W: -3.083991, b: 9.338510\n",
            "epoch: 2500, cost: 0.381493, W: -3.087090, b: 9.347754\n",
            "epoch: 2600, cost: 0.381493, W: -3.089704, b: 9.355551\n",
            "epoch: 2700, cost: 0.381492, W: -3.091908, b: 9.362126\n",
            "epoch: 2800, cost: 0.381492, W: -3.093769, b: 9.367676\n",
            "epoch: 2900, cost: 0.381491, W: -3.095338, b: 9.372355\n",
            "epoch: 3000, cost: 0.381491, W: -3.096662, b: 9.376306\n"
          ]
        }
      ]
    },
    {
      "cell_type": "code",
      "metadata": {
        "colab": {
          "base_uri": "https://localhost:8080/"
        },
        "id": "KKH-Wcfv1-NT",
        "outputId": "4a2adc9e-8f19-4588-e8d7-c07e26a78bfb"
      },
      "source": [
        "import torch\n",
        "\n",
        "x_train = torch.FloatTensor([[1], [2], [3], [4], [5], [2.5], [3.5], [0], [3.1], [2.7], [2.8], [2.9]])\n",
        "y_train = torch.FloatTensor([[1], [1], [1], [0], [0], [0], [0], [1], [0], [1], [1], [1]])\n",
        "\n",
        "W = torch.zeros(1, 1)\n",
        "b = torch.zeros(1, 1)\n",
        "\n",
        "optimizer = torch.optim.Adam([W, b], lr=1.0)\n",
        "\n",
        "for epoch in range(3001):\n",
        "  W.requires_grad_(True)\n",
        "  b.requires_grad_(True)\n",
        "\n",
        "  hypothesis = torch.sigmoid(torch.mm(x_train, W) + b)\n",
        "  cost = torch.mean(-y_train * torch.log(hypothesis) - (1 - y_train) * torch.log(1- hypothesis))\n",
        "\n",
        "  optimizer.zero_grad()\n",
        "  cost.backward()\n",
        "  optimizer.step()\n",
        "\n",
        "  if epoch % 100 == 0:\n",
        "    print('epoch: {}, cost: {:.6f}, W: {:.6f}, b: {:.6f}'.format(epoch, cost.item(), W.squeeze(), b.squeeze()))\n"
      ],
      "execution_count": 5,
      "outputs": [
        {
          "output_type": "stream",
          "name": "stdout",
          "text": [
            "epoch: 0, cost: 0.693147, W: -1.000000, b: 1.000000\n",
            "epoch: 100, cost: 0.381568, W: -3.009526, b: 9.125641\n",
            "epoch: 200, cost: 0.381491, W: -3.102716, b: 9.394313\n",
            "epoch: 300, cost: 0.381491, W: -3.103857, b: 9.397765\n",
            "epoch: 400, cost: 0.381491, W: -3.103852, b: 9.397752\n",
            "epoch: 500, cost: 0.381491, W: -3.103853, b: 9.397752\n",
            "epoch: 600, cost: 0.381491, W: -3.103853, b: 9.397752\n",
            "epoch: 700, cost: 0.381491, W: -3.103853, b: 9.397752\n",
            "epoch: 800, cost: 0.381491, W: -3.103853, b: 9.397752\n",
            "epoch: 900, cost: 0.381491, W: -3.103853, b: 9.397752\n",
            "epoch: 1000, cost: 0.381491, W: -3.103853, b: 9.397752\n",
            "epoch: 1100, cost: 0.381491, W: -3.103853, b: 9.397752\n",
            "epoch: 1200, cost: 0.381491, W: -3.103853, b: 9.397752\n",
            "epoch: 1300, cost: 0.381491, W: -3.103853, b: 9.397752\n",
            "epoch: 1400, cost: 0.381491, W: -3.103853, b: 9.397752\n",
            "epoch: 1500, cost: 0.381491, W: -3.103853, b: 9.397752\n",
            "epoch: 1600, cost: 0.381491, W: -3.103853, b: 9.397752\n",
            "epoch: 1700, cost: 0.411664, W: -3.698259, b: 10.847305\n",
            "epoch: 1800, cost: 0.381491, W: -3.103931, b: 9.401423\n",
            "epoch: 1900, cost: 0.381491, W: -3.103857, b: 9.397785\n",
            "epoch: 2000, cost: 0.381491, W: -3.103852, b: 9.397752\n",
            "epoch: 2100, cost: 0.381491, W: -3.103853, b: 9.397754\n",
            "epoch: 2200, cost: 0.381491, W: -3.103852, b: 9.397751\n",
            "epoch: 2300, cost: 0.381491, W: -3.103853, b: 9.397753\n",
            "epoch: 2400, cost: 0.381491, W: -3.103853, b: 9.397753\n",
            "epoch: 2500, cost: 0.381491, W: -3.103853, b: 9.397753\n",
            "epoch: 2600, cost: 0.381491, W: -3.103853, b: 9.397753\n",
            "epoch: 2700, cost: 0.381491, W: -3.103853, b: 9.397753\n",
            "epoch: 2800, cost: 0.381491, W: -3.103853, b: 9.397753\n",
            "epoch: 2900, cost: 0.381491, W: -3.103853, b: 9.397753\n",
            "epoch: 3000, cost: 0.381491, W: -3.103853, b: 9.397752\n"
          ]
        }
      ]
    },
    {
      "cell_type": "code",
      "metadata": {
        "colab": {
          "base_uri": "https://localhost:8080/"
        },
        "id": "OqpUaA-s2wo0",
        "outputId": "d0e2c03e-ec1d-4379-f48f-59b8afdc6631"
      },
      "source": [
        "import torch\n",
        "\n",
        "x_train = torch.FloatTensor([[1], [2], [3], [4], [5], [2.5], [3.5], [0], [3.1], [2.7], [2.8], [2.9]])\n",
        "y_train = torch.FloatTensor([[1], [1], [1], [0], [0], [0], [0], [1], [0], [1], [1], [1]])\n",
        "\n",
        "W = torch.zeros(1, 1)\n",
        "b = torch.zeros(1, 1)\n",
        "\n",
        "optimizer = torch.optim.Adadelta([W, b])\n",
        "\n",
        "for epoch in range(3001):\n",
        "  W.requires_grad_(True)\n",
        "  b.requires_grad_(True)\n",
        "\n",
        "  hypothesis = torch.sigmoid(torch.mm(x_train, W) + b)\n",
        "  cost = torch.mean(-y_train * torch.log(hypothesis) - (1 - y_train) * torch.log(1- hypothesis))\n",
        "\n",
        "  optimizer.zero_grad()\n",
        "  cost.backward()\n",
        "  optimizer.step()\n",
        "\n",
        "  if epoch % 100 == 0:\n",
        "    print('epoch: {}, cost: {:.6f}, W: {:.6f}, b: {:.6f}'.format(epoch, cost.item(), W.squeeze(), b.squeeze()))\n"
      ],
      "execution_count": 8,
      "outputs": [
        {
          "output_type": "stream",
          "name": "stdout",
          "text": [
            "epoch: 0, cost: 0.693147, W: -0.003162, b: 0.003160\n",
            "epoch: 100, cost: 0.632085, W: -0.202549, b: 0.469101\n",
            "epoch: 200, cost: 0.579402, W: -0.372944, b: 0.996084\n",
            "epoch: 300, cost: 0.537192, W: -0.537830, b: 1.522116\n",
            "epoch: 400, cost: 0.504296, W: -0.698524, b: 2.036054\n",
            "epoch: 500, cost: 0.478509, W: -0.857097, b: 2.540157\n",
            "epoch: 600, cost: 0.458038, W: -1.015019, b: 3.038627\n",
            "epoch: 700, cost: 0.441618, W: -1.173148, b: 3.534263\n",
            "epoch: 800, cost: 0.428366, W: -1.331804, b: 4.028254\n",
            "epoch: 900, cost: 0.417649, W: -1.490835, b: 4.520365\n",
            "epoch: 1000, cost: 0.409003, W: -1.649657, b: 5.009084\n",
            "epoch: 1100, cost: 0.402074, W: -1.807266, b: 5.491660\n",
            "epoch: 1200, cost: 0.396584, W: -1.962220, b: 5.964028\n",
            "epoch: 1300, cost: 0.392307, W: -2.112598, b: 6.420692\n",
            "epoch: 1400, cost: 0.389052, W: -2.255959, b: 6.854595\n",
            "epoch: 1500, cost: 0.386648, W: -2.389365, b: 7.257202\n",
            "epoch: 1600, cost: 0.384936, W: -2.509624, b: 7.619218\n",
            "epoch: 1700, cost: 0.383766, W: -2.613942, b: 7.932579\n",
            "epoch: 1800, cost: 0.382993, W: -2.701013, b: 8.193676\n",
            "epoch: 1900, cost: 0.382493, W: -2.771797, b: 8.405665\n",
            "epoch: 2000, cost: 0.382167, W: -2.828949, b: 8.576682\n",
            "epoch: 2100, cost: 0.381953, W: -2.875364, b: 8.715486\n",
            "epoch: 2200, cost: 0.381809, W: -2.913357, b: 8.829048\n",
            "epoch: 2300, cost: 0.381711, W: -2.944652, b: 8.922554\n",
            "epoch: 2400, cost: 0.381644, W: -2.970553, b: 8.999921\n",
            "epoch: 2500, cost: 0.381598, W: -2.992069, b: 9.064172\n",
            "epoch: 2600, cost: 0.381566, W: -3.009996, b: 9.117693\n",
            "epoch: 2700, cost: 0.381544, W: -3.024969, b: 9.162389\n",
            "epoch: 2800, cost: 0.381528, W: -3.037498, b: 9.199784\n",
            "epoch: 2900, cost: 0.381517, W: -3.047997, b: 9.231117\n",
            "epoch: 3000, cost: 0.381510, W: -3.056807, b: 9.257407\n"
          ]
        }
      ]
    },
    {
      "cell_type": "code",
      "metadata": {
        "colab": {
          "base_uri": "https://localhost:8080/"
        },
        "id": "y7-ofSr3FTZC",
        "outputId": "f4505795-7c6c-416b-9bef-a6e82385bf54"
      },
      "source": [
        "import torch\n",
        "\n",
        "x_train = torch.FloatTensor([[1], [2], [3], [4], [5], [2.5], [3.5], [0], [3.1], [2.7], [2.8], [2.9]])\n",
        "y_train = torch.FloatTensor([[1], [1], [1], [0], [0], [0], [0], [1], [0], [1], [1], [1]])\n",
        "\n",
        "W = torch.zeros(1, 1)\n",
        "b = torch.zeros(1, 1)\n",
        "\n",
        "optimizer = torch.optim.Adagrad([W, b])\n",
        "\n",
        "for epoch in range(3001):\n",
        "  W.requires_grad_(True)\n",
        "  b.requires_grad_(True)\n",
        "\n",
        "  hypothesis = torch.sigmoid(torch.mm(x_train, W) + b)\n",
        "  cost = torch.mean(-y_train * torch.log(hypothesis) - (1 - y_train) * torch.log(1- hypothesis))\n",
        "\n",
        "  optimizer.zero_grad()\n",
        "  cost.backward()\n",
        "  optimizer.step()\n",
        "\n",
        "  if epoch % 100 == 0:\n",
        "    print('epoch: {}, cost: {:.6f}, W: {:.6f}, b: {:.6f}'.format(epoch, cost.item(), W.squeeze(), b.squeeze()))\n"
      ],
      "execution_count": 10,
      "outputs": [
        {
          "output_type": "stream",
          "name": "stdout",
          "text": [
            "epoch: 0, cost: 0.693147, W: -0.010000, b: 0.010000\n",
            "epoch: 100, cost: 0.663116, W: -0.120191, b: 0.197555\n",
            "epoch: 200, cost: 0.652859, W: -0.149673, b: 0.282153\n",
            "epoch: 300, cost: 0.645402, W: -0.170435, b: 0.345706\n",
            "epoch: 400, cost: 0.639344, W: -0.187358, b: 0.398541\n",
            "epoch: 500, cost: 0.634163, W: -0.201971, b: 0.444600\n",
            "epoch: 600, cost: 0.629598, W: -0.214993, b: 0.485882\n",
            "epoch: 700, cost: 0.625494, W: -0.226836, b: 0.523562\n",
            "epoch: 800, cost: 0.621753, W: -0.237757, b: 0.558402\n",
            "epoch: 900, cost: 0.618306, W: -0.247934, b: 0.590929\n",
            "epoch: 1000, cost: 0.615104, W: -0.257493, b: 0.621523\n",
            "epoch: 1100, cost: 0.612110, W: -0.266528, b: 0.650473\n",
            "epoch: 1200, cost: 0.609294, W: -0.275112, b: 0.678000\n",
            "epoch: 1300, cost: 0.606635, W: -0.283302, b: 0.704282\n",
            "epoch: 1400, cost: 0.604113, W: -0.291144, b: 0.729460\n",
            "epoch: 1500, cost: 0.601714, W: -0.298676, b: 0.753654\n",
            "epoch: 1600, cost: 0.599425, W: -0.305929, b: 0.776960\n",
            "epoch: 1700, cost: 0.597235, W: -0.312930, b: 0.799462\n",
            "epoch: 1800, cost: 0.595136, W: -0.319701, b: 0.821231\n",
            "epoch: 1900, cost: 0.593119, W: -0.326262, b: 0.842327\n",
            "epoch: 2000, cost: 0.591178, W: -0.332629, b: 0.862804\n",
            "epoch: 2100, cost: 0.589307, W: -0.338818, b: 0.882707\n",
            "epoch: 2200, cost: 0.587501, W: -0.344840, b: 0.902078\n",
            "epoch: 2300, cost: 0.585755, W: -0.350708, b: 0.920953\n",
            "epoch: 2400, cost: 0.584064, W: -0.356431, b: 0.939364\n",
            "epoch: 2500, cost: 0.582426, W: -0.362019, b: 0.957341\n",
            "epoch: 2600, cost: 0.580837, W: -0.367481, b: 0.974909\n",
            "epoch: 2700, cost: 0.579294, W: -0.372822, b: 0.992093\n",
            "epoch: 2800, cost: 0.577794, W: -0.378051, b: 1.008912\n",
            "epoch: 2900, cost: 0.576336, W: -0.383173, b: 1.025389\n",
            "epoch: 3000, cost: 0.574915, W: -0.388193, b: 1.041539\n"
          ]
        }
      ]
    },
    {
      "cell_type": "code",
      "metadata": {
        "colab": {
          "base_uri": "https://localhost:8080/"
        },
        "id": "bDwo0-h7FhQF",
        "outputId": "088a26a4-744c-4315-b52d-391ad9628ab5"
      },
      "source": [
        "import torch\n",
        "\n",
        "x_train = torch.FloatTensor([[1], [2], [3], [4], [5], [2.5], [3.5], [0], [3.1], [2.7], [2.8], [2.9]])\n",
        "y_train = torch.FloatTensor([[1], [1], [1], [0], [0], [0], [0], [1], [0], [1], [1], [1]])\n",
        "\n",
        "W = torch.zeros(1, 1)\n",
        "b = torch.zeros(1, 1)\n",
        "\n",
        "optimizer = torch.optim.RMSprop([W, b])\n",
        "\n",
        "for epoch in range(3001):\n",
        "  W.requires_grad_(True)\n",
        "  b.requires_grad_(True)\n",
        "\n",
        "  hypothesis = torch.sigmoid(torch.mm(x_train, W) + b)\n",
        "  cost = torch.mean(-y_train * torch.log(hypothesis) - (1 - y_train) * torch.log(1- hypothesis))\n",
        "\n",
        "  optimizer.zero_grad()\n",
        "  cost.backward()\n",
        "  optimizer.step()\n",
        "\n",
        "  if epoch % 100 == 0:\n",
        "    print('epoch: {}, cost: {:.6f}, W: {:.6f}, b: {:.6f}'.format(epoch, cost.item(), W.squeeze(), b.squeeze()))\n"
      ],
      "execution_count": 11,
      "outputs": [
        {
          "output_type": "stream",
          "name": "stdout",
          "text": [
            "epoch: 0, cost: 0.693147, W: -0.100000, b: 0.100000\n",
            "epoch: 100, cost: 0.516178, W: -0.636653, b: 1.841518\n",
            "epoch: 200, cost: 0.471931, W: -0.925027, b: 2.695784\n",
            "epoch: 300, cost: 0.444874, W: -1.143202, b: 3.429768\n",
            "epoch: 400, cost: 0.426215, W: -1.361969, b: 4.120999\n",
            "epoch: 500, cost: 0.412637, W: -1.584123, b: 4.793704\n",
            "epoch: 600, cost: 0.402613, W: -1.803058, b: 5.454574\n",
            "epoch: 700, cost: 0.395228, W: -2.014783, b: 6.102520\n",
            "epoch: 800, cost: 0.389943, W: -2.221066, b: 6.730135\n",
            "epoch: 900, cost: 0.386319, W: -2.417708, b: 7.325363\n",
            "epoch: 1000, cost: 0.383996, W: -2.598678, b: 7.870512\n",
            "epoch: 1100, cost: 0.382650, W: -2.756007, b: 8.342168\n",
            "epoch: 1200, cost: 0.381972, W: -2.881316, b: 8.716043\n",
            "epoch: 1300, cost: 0.381681, W: -2.970531, b: 8.981243\n",
            "epoch: 1400, cost: 0.381573, W: -3.027752, b: 9.151283\n",
            "epoch: 1500, cost: 0.381534, W: -3.062076, b: 9.253578\n",
            "epoch: 1600, cost: 0.381522, W: -3.082082, b: 9.313208\n",
            "epoch: 1700, cost: 0.381518, W: -3.093630, b: 9.347496\n",
            "epoch: 1800, cost: 0.381516, W: -3.100250, b: 9.367140\n",
            "epoch: 1900, cost: 0.381516, W: -3.104026, b: 9.378395\n",
            "epoch: 2000, cost: 0.381516, W: -3.106185, b: 9.384837\n",
            "epoch: 2100, cost: 0.381516, W: -3.107428, b: 9.388515\n",
            "epoch: 2200, cost: 0.381516, W: -3.108137, b: 9.390622\n",
            "epoch: 2300, cost: 0.381516, W: -3.108541, b: 9.391828\n",
            "epoch: 2400, cost: 0.381516, W: -3.108773, b: 9.392519\n",
            "epoch: 2500, cost: 0.381516, W: -3.108906, b: 9.392914\n",
            "epoch: 2600, cost: 0.381516, W: -3.108981, b: 9.393138\n",
            "epoch: 2700, cost: 0.381516, W: -3.109025, b: 9.393265\n",
            "epoch: 2800, cost: 0.381516, W: -3.109051, b: 9.393344\n",
            "epoch: 2900, cost: 0.381516, W: -3.109066, b: 9.393390\n",
            "epoch: 3000, cost: 0.381516, W: -3.109075, b: 9.393414\n"
          ]
        }
      ]
    },
    {
      "cell_type": "code",
      "metadata": {
        "colab": {
          "base_uri": "https://localhost:8080/",
          "height": 279
        },
        "id": "-cJ8ywSnFoJS",
        "outputId": "07b298eb-807d-400a-a9b4-920ff1359e56"
      },
      "source": [
        "import matplotlib.pyplot as plt\n",
        "W.requires_grad_(False)\n",
        "b.requires_grad_(False)\n",
        "\n",
        "plt.scatter(x_train, y_train, c=\"black\", label=\"Training data\")\n",
        "\n",
        "X = torch.linspace(0, 5, 100).unsqueeze(1)\n",
        "Y = torch.sigmoid(torch.mm(X,W) + b)\n",
        "\n",
        "plt.ylabel(\"Probability of 1 (Y)\")\n",
        "plt.xlabel(\"Input (X)\")\n",
        "\n",
        "plt.plot(X, Y, c=\"#ff0000\", label=\"Fitting line\")\n",
        "plt.legend()\n",
        "plt.show()"
      ],
      "execution_count": 16,
      "outputs": [
        {
          "output_type": "display_data",
          "data": {
            "image/png": "[encoded data removed]",
            "text/plain": [
              "<Figure size 432x288 with 1 Axes>"
            ]
          },
          "metadata": {
            "needs_background": "light"
          }
        }
      ]
    },
    {
      "cell_type": "code",
      "metadata": {
        "colab": {
          "base_uri": "https://localhost:8080/"
        },
        "id": "EgYXSKvtI-Y5",
        "outputId": "29dcded9-d492-4a29-c930-c1f1ef7f716e"
      },
      "source": [
        "from sklearn.linear_model import LogisticRegression\n",
        "\n",
        "x_train = [[1], [2], [3], [4], [5], [2.5], [3.5], [0], [3.1], [2.7], [2.8], [2.9]]\n",
        "y_train = [1, 1, 1, 0, 0, 0, 0, 1, 0, 1, 1, 1]\n",
        "\n",
        "model = LogisticRegression(penalty = 'none')\n",
        "model.fit(x_train, y_train)\n",
        "\n",
        "print(model.coef_, model.intercept_)\n",
        "\n",
        "x_test = [[4.5], [1.1]]\n",
        "test_result = model.predict(x_test)\n",
        "print(test_result)"
      ],
      "execution_count": 17,
      "outputs": [
        {
          "output_type": "stream",
          "name": "stdout",
          "text": [
            "[[-3.10385806]] [9.39776831]\n",
            "[0 1]\n"
          ]
        }
      ]
    }
  ]
}