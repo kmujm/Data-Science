{
  "nbformat": 4,
  "nbformat_minor": 0,
  "metadata": {
    "colab": {
      "name": "박정민_20203074_과제5.ipynb",
      "provenance": [],
      "collapsed_sections": []
    },
    "kernelspec": {
      "name": "python3",
      "display_name": "Python 3"
    },
    "language_info": {
      "name": "python"
    }
  },
  "cells": [
    {
      "cell_type": "code",
      "metadata": {
        "colab": {
          "base_uri": "https://localhost:8080/"
        },
        "id": "cs6nZjzAPh1b",
        "outputId": "56cf960c-3303-4e40-f9f5-fb57f592b748"
      },
      "source": [
        "from google.colab import drive\n",
        "drive.mount(\"/content/gdrive\")"
      ],
      "execution_count": 1,
      "outputs": [
        {
          "output_type": "stream",
          "name": "stdout",
          "text": [
            "Mounted at /content/gdrive\n"
          ]
        }
      ]
    },
    {
      "cell_type": "code",
      "metadata": {
        "id": "_k6ygfBuSF7d"
      },
      "source": [
        "import torch\n",
        "import pandas as pd\n",
        "import torch.nn.functional as F\n",
        "import matplotlib.pyplot as plt"
      ],
      "execution_count": 2,
      "outputs": []
    },
    {
      "cell_type": "code",
      "metadata": {
        "colab": {
          "base_uri": "https://localhost:8080/",
          "height": 417
        },
        "id": "60ByHssWUqaU",
        "outputId": "b9cf75d6-0ccb-4be9-e477-93302a9cc127"
      },
      "source": [
        "train = pd.read_csv(\"/content/gdrive/MyDrive/ml-100k/ua.base\", sep=\"\\t\", \n",
        "            names=[\"user\", \"item\", \"ratings\", \"timestamp\"])\n",
        "test = pd.read_csv(\"/content/gdrive/MyDrive/ml-100k/ua.test\", sep=\"\\t\", \n",
        "            names=[\"user\", \"item\", \"ratings\", \"timestamp\"])\n"
      ],
      "execution_count": 4,
      "outputs": [
        {
          "output_type": "execute_result",
          "data": {
            "text/html": [
              "<div>\n",
              "<style scoped>\n",
              "    .dataframe tbody tr th:only-of-type {\n",
              "        vertical-align: middle;\n",
              "    }\n",
              "\n",
              "    .dataframe tbody tr th {\n",
              "        vertical-align: top;\n",
              "    }\n",
              "\n",
              "    .dataframe thead th {\n",
              "        text-align: right;\n",
              "    }\n",
              "</style>\n",
              "<table border=\"1\" class=\"dataframe\">\n",
              "  <thead>\n",
              "    <tr style=\"text-align: right;\">\n",
              "      <th></th>\n",
              "      <th>user</th>\n",
              "      <th>item</th>\n",
              "      <th>ratings</th>\n",
              "      <th>timestamp</th>\n",
              "    </tr>\n",
              "  </thead>\n",
              "  <tbody>\n",
              "    <tr>\n",
              "      <th>0</th>\n",
              "      <td>1</td>\n",
              "      <td>1</td>\n",
              "      <td>5</td>\n",
              "      <td>874965758</td>\n",
              "    </tr>\n",
              "    <tr>\n",
              "      <th>1</th>\n",
              "      <td>1</td>\n",
              "      <td>2</td>\n",
              "      <td>3</td>\n",
              "      <td>876893171</td>\n",
              "    </tr>\n",
              "    <tr>\n",
              "      <th>2</th>\n",
              "      <td>1</td>\n",
              "      <td>3</td>\n",
              "      <td>4</td>\n",
              "      <td>878542960</td>\n",
              "    </tr>\n",
              "    <tr>\n",
              "      <th>3</th>\n",
              "      <td>1</td>\n",
              "      <td>4</td>\n",
              "      <td>3</td>\n",
              "      <td>876893119</td>\n",
              "    </tr>\n",
              "    <tr>\n",
              "      <th>4</th>\n",
              "      <td>1</td>\n",
              "      <td>5</td>\n",
              "      <td>3</td>\n",
              "      <td>889751712</td>\n",
              "    </tr>\n",
              "    <tr>\n",
              "      <th>...</th>\n",
              "      <td>...</td>\n",
              "      <td>...</td>\n",
              "      <td>...</td>\n",
              "      <td>...</td>\n",
              "    </tr>\n",
              "    <tr>\n",
              "      <th>90565</th>\n",
              "      <td>943</td>\n",
              "      <td>1047</td>\n",
              "      <td>2</td>\n",
              "      <td>875502146</td>\n",
              "    </tr>\n",
              "    <tr>\n",
              "      <th>90566</th>\n",
              "      <td>943</td>\n",
              "      <td>1074</td>\n",
              "      <td>4</td>\n",
              "      <td>888640250</td>\n",
              "    </tr>\n",
              "    <tr>\n",
              "      <th>90567</th>\n",
              "      <td>943</td>\n",
              "      <td>1188</td>\n",
              "      <td>3</td>\n",
              "      <td>888640250</td>\n",
              "    </tr>\n",
              "    <tr>\n",
              "      <th>90568</th>\n",
              "      <td>943</td>\n",
              "      <td>1228</td>\n",
              "      <td>3</td>\n",
              "      <td>888640275</td>\n",
              "    </tr>\n",
              "    <tr>\n",
              "      <th>90569</th>\n",
              "      <td>943</td>\n",
              "      <td>1330</td>\n",
              "      <td>3</td>\n",
              "      <td>888692465</td>\n",
              "    </tr>\n",
              "  </tbody>\n",
              "</table>\n",
              "<p>90570 rows × 4 columns</p>\n",
              "</div>"
            ],
            "text/plain": [
              "       user  item  ratings  timestamp\n",
              "0         1     1        5  874965758\n",
              "1         1     2        3  876893171\n",
              "2         1     3        4  878542960\n",
              "3         1     4        3  876893119\n",
              "4         1     5        3  889751712\n",
              "...     ...   ...      ...        ...\n",
              "90565   943  1047        2  875502146\n",
              "90566   943  1074        4  888640250\n",
              "90567   943  1188        3  888640250\n",
              "90568   943  1228        3  888640275\n",
              "90569   943  1330        3  888692465\n",
              "\n",
              "[90570 rows x 4 columns]"
            ]
          },
          "metadata": {},
          "execution_count": 4
        }
      ]
    },
    {
      "cell_type": "code",
      "metadata": {
        "id": "1qddc3DaVYnL"
      },
      "source": [
        "users = torch.LongTensor(train[\"user\"])\n",
        "items = torch.LongTensor(train[\"item\"])\n",
        "ratings = torch.FloatTensor(train[\"ratings\"])\n",
        "\n",
        "users_test = torch.LongTensor(test[\"user\"])\n",
        "items_test = torch.LongTensor(test[\"item\"])\n",
        "ratings_test = torch.LongTensor(test[\"ratings\"])"
      ],
      "execution_count": 6,
      "outputs": []
    },
    {
      "cell_type": "code",
      "metadata": {
        "colab": {
          "base_uri": "https://localhost:8080/"
        },
        "id": "34UJ5IkPuUy8",
        "outputId": "470d8c9a-9540-4198-8cfd-222780c6e2e1"
      },
      "source": [
        "rank = 10\n",
        "num_users = users.max() + 1\n",
        "num_items = items.max() + 1\n",
        "\n",
        "P = torch.randn(num_users, rank, requires_grad=True)\n",
        "Q = torch.randn(num_items, rank, requires_grad=True)\n",
        "\n",
        "optimizer = torch.optim.Adam([P,Q], lr=0.1)\n",
        "\n",
        "\n",
        "X = []\n",
        "Y = []\n",
        "Y_test = []\n",
        "\n",
        "for epoch in range(1001):\n",
        "  hypo = (P[users] * Q[items]).sum(dim=1)\n",
        "  cost = F.mse_loss(hypo, ratings)\n",
        "\n",
        "  optimizer.zero_grad()\n",
        "  cost.backward()\n",
        "  optimizer.step()\n",
        "\n",
        "  with torch.no_grad():\n",
        "    X.append(epoch)\n",
        "    Y.append(cost.item())\n",
        "\n",
        "    hypo_test = (P[users_test] * Q[items_test]).sum(dim=1)\n",
        "    cost_test = F.mse_loss(hypo_test, ratings_test)\n",
        "    Y_test.append(cost_test.item())\n",
        "\n",
        "    if epoch % 100 == 0:\n",
        "      print(f\"epoch: {epoch}, cost:{cost.item()}, cost_test:{cost_test.item()}\")\n",
        "\n"
      ],
      "execution_count": 21,
      "outputs": [
        {
          "output_type": "stream",
          "name": "stdout",
          "text": [
            "epoch: 0, cost:23.874103546142578, cost_test:22.139266967773438\n",
            "epoch: 100, cost:0.5633122324943542, cost_test:1.5623003244400024\n",
            "epoch: 200, cost:0.4924214780330658, cost_test:1.912723422050476\n",
            "epoch: 300, cost:0.4711175858974457, cost_test:2.2544360160827637\n",
            "epoch: 400, cost:0.4607672691345215, cost_test:2.6470189094543457\n",
            "epoch: 500, cost:0.4548172652721405, cost_test:3.095144748687744\n",
            "epoch: 600, cost:0.4510841369628906, cost_test:3.506682872772217\n",
            "epoch: 700, cost:0.4485485553741455, cost_test:3.889117956161499\n",
            "epoch: 800, cost:0.4466700851917267, cost_test:4.282528400421143\n",
            "epoch: 900, cost:0.4451338052749634, cost_test:4.721318244934082\n",
            "epoch: 1000, cost:0.443820983171463, cost_test:5.246633052825928\n"
          ]
        }
      ]
    },
    {
      "cell_type": "code",
      "metadata": {
        "colab": {
          "base_uri": "https://localhost:8080/"
        },
        "id": "QbJ7RglxtToU",
        "outputId": "280ce5e6-ebaa-444c-8543-b5cb3edf6ad5"
      },
      "source": [
        "rank = 10\n",
        "num_users = users.max() + 1\n",
        "num_items = items.max() + 1\n",
        "\n",
        "P = torch.randn(num_users, rank, requires_grad=True)\n",
        "Q = torch.randn(num_items, rank, requires_grad=True)\n",
        "\n",
        "optimizer = torch.optim.Adam([P,Q], lr=0.1)\n",
        "\n",
        "lambda_P = 0.0001\n",
        "lambda_Q = 0.0001\n",
        "\n",
        "X = []\n",
        "Y = []\n",
        "Y_test = []\n",
        "\n",
        "for epoch in range(1001):\n",
        "  hypo = (P[users] * Q[items]).sum(dim=1)\n",
        "  mse = F.mse_loss(hypo, ratings)\n",
        "  cost = mse + lambda_P * (P**2).sum() + lambda_Q * (Q**2).sum()\n",
        "\n",
        "  optimizer.zero_grad()\n",
        "  cost.backward()\n",
        "  optimizer.step()\n",
        "\n",
        "  with torch.no_grad():\n",
        "    X.append(epoch)\n",
        "    Y.append(mse.item())\n",
        "\n",
        "    hypo_test = (P[users_test] * Q[items_test]).sum(dim=1)\n",
        "    mse_test = F.mse_loss(hypo_test, ratings_test)\n",
        "    Y_test.append(mse_test.item())\n",
        "\n",
        "    if epoch % 100 == 0:\n",
        "      print(f\"epoch: {epoch}, mse:{mse.item()}, mse_test:{mse_test.item()}\")\n",
        "\n"
      ],
      "execution_count": 22,
      "outputs": [
        {
          "output_type": "stream",
          "name": "stdout",
          "text": [
            "epoch: 0, mse:23.484914779663086, mse_test:21.09608268737793\n",
            "epoch: 100, mse:0.6889662742614746, mse_test:1.059688925743103\n",
            "epoch: 200, mse:0.643653154373169, mse_test:1.061043381690979\n",
            "epoch: 300, mse:0.6310486793518066, mse_test:1.0573389530181885\n",
            "epoch: 400, mse:0.6275273561477661, mse_test:1.0553057193756104\n",
            "epoch: 500, mse:0.6266985535621643, mse_test:1.0537805557250977\n",
            "epoch: 600, mse:0.6264886856079102, mse_test:1.0531445741653442\n",
            "epoch: 700, mse:0.6263757944107056, mse_test:1.052925705909729\n",
            "epoch: 800, mse:0.6262785792350769, mse_test:1.052931785583496\n",
            "epoch: 900, mse:0.6261938214302063, mse_test:1.0531216859817505\n",
            "epoch: 1000, mse:0.62612384557724, mse_test:1.0534547567367554\n"
          ]
        }
      ]
    },
    {
      "cell_type": "code",
      "metadata": {
        "colab": {
          "base_uri": "https://localhost:8080/"
        },
        "id": "GlSNEn-sWsMB",
        "outputId": "293c69ed-d815-4bda-b7e4-1ba8d306958f"
      },
      "source": [
        "rank = 10\n",
        "num_users = users.max() + 1\n",
        "num_items = items.max() + 1\n",
        "\n",
        "P = torch.randn(num_users, rank, requires_grad=True)\n",
        "Q = torch.randn(num_items, rank, requires_grad=True)\n",
        "\n",
        "\n",
        "bias_user = torch.randn(num_users, requires_grad=True)\n",
        "bias_item = torch.randn(num_items, requires_grad=True)\n",
        "mean = (ratings.sum() / len(ratings)).item()\n",
        "\n",
        "optimizer = torch.optim.Adam([P,Q, bias_user, bias_item], lr=0.1)\n",
        "\n",
        "lambda_P = 0.0001\n",
        "lambda_Q = 0.0001\n",
        "lambda_BU = 0.0001\n",
        "lambda_BI = 0.0001\n",
        "\n",
        "X = []\n",
        "Y = []\n",
        "Y_test = []\n",
        "\n",
        "for epoch in range(1001):\n",
        "  hypo = (P[users] * Q[items]).sum(dim=1) + bias_user[users] + bias_item[items] + mean\n",
        "  mse = F.mse_loss(hypo, ratings)\n",
        "  cost = mse + lambda_P * (P**2).sum() + lambda_Q * (Q**2).sum() + \\\n",
        "          lambda_BU * (bias_user**2).sum() + lambda_BI * (bias_item**2).sum()\n",
        "\n",
        "  optimizer.zero_grad()\n",
        "  cost.backward()\n",
        "  optimizer.step()\n",
        "\n",
        "  with torch.no_grad():\n",
        "    X.append(epoch)\n",
        "    Y.append(mse.item())\n",
        "\n",
        "    hypo_test = (P[users_test] * Q[items_test]).sum(dim=1) + \\\n",
        "                bias_user[users_test] + bias_item[items_test] + mean\n",
        "    mse_test = F.mse_loss(hypo_test, ratings_test)\n",
        "    Y_test.append(mse_test.item())\n",
        "\n",
        "    if epoch % 100 == 0:\n",
        "      print(f\"epoch: {epoch}, mse:{mse.item()}, mse_test:{mse_test.item()}\")\n",
        "\n"
      ],
      "execution_count": 23,
      "outputs": [
        {
          "output_type": "stream",
          "name": "stdout",
          "text": [
            "epoch: 0, mse:13.379758834838867, mse_test:10.499831199645996\n",
            "epoch: 100, mse:0.6061757206916809, mse_test:0.8778351545333862\n",
            "epoch: 200, mse:0.5796006917953491, mse_test:0.8702333569526672\n",
            "epoch: 300, mse:0.5755806565284729, mse_test:0.870954692363739\n",
            "epoch: 400, mse:0.573808491230011, mse_test:0.8734675049781799\n",
            "epoch: 500, mse:0.5731914639472961, mse_test:0.8739627599716187\n",
            "epoch: 600, mse:0.5729454159736633, mse_test:0.8733160495758057\n",
            "epoch: 700, mse:0.5728240609169006, mse_test:0.8726574778556824\n",
            "epoch: 800, mse:0.5727621912956238, mse_test:0.8721418976783752\n",
            "epoch: 900, mse:0.5727220773696899, mse_test:0.87167888879776\n",
            "epoch: 1000, mse:0.5726909637451172, mse_test:0.8712325096130371\n"
          ]
        }
      ]
    },
    {
      "cell_type": "code",
      "metadata": {
        "colab": {
          "base_uri": "https://localhost:8080/",
          "height": 283
        },
        "id": "8KO6XrDxa40Y",
        "outputId": "02707295-a2b3-404e-f647-039e3a09bad2"
      },
      "source": [
        "plt.plot(X, Y)\n",
        "plt.xlabel(\"Epoch\")\n",
        "plt.ylabel(\"MSE\")\n",
        "\n",
        "plt.plot(X, Y, label=\"train MSE\")\n",
        "plt.plot(X, Y_test, label=\"test MSE\")\n",
        "plt.legend()\n",
        "\n",
        "plt.show()"
      ],
      "execution_count": 24,
      "outputs": [
        {
          "output_type": "display_data",
          "data": {
            "image/png": "[encoded data removed]",
            "text/plain": [
              "<Figure size 432x288 with 1 Axes>"
            ]
          },
          "metadata": {
            "needs_background": "light"
          }
        }
      ]
    },
    {
      "cell_type": "code",
      "metadata": {
        "id": "ht02AH6DbCIL"
      },
      "source": [
        ""
      ],
      "execution_count": null,
      "outputs": []
    }
  ]
}